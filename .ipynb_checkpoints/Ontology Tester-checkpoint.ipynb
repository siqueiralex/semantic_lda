{
 "cells": [
  {
   "cell_type": "code",
   "execution_count": 1,
   "metadata": {},
   "outputs": [],
   "source": [
    "from Translator import translate_line\n",
    "import nltk\n",
    "from nltk.corpus import stopwords \n",
    "from nltk.stem import WordNetLemmatizer\n",
    "import rdflib\n",
    "import re\n",
    "from Word2Vec import Word2Vec_Evaluation\n",
    "import sys\n",
    "from scipy.stats import spearmanr\n",
    "import requests\n",
    "import numpy as np\n",
    "import enchant\n",
    "import bs4\n",
    "import requests\n",
    "from collections import defaultdict\n",
    "from nltk.tokenize import RegexpTokenizer\n",
    "tokenizer = RegexpTokenizer(r'\\w+')"
   ]
  },
  {
   "cell_type": "code",
   "execution_count": 2,
   "metadata": {},
   "outputs": [
    {
     "name": "stdout",
     "output_type": "stream",
     "text": [
      "['medico', 'hospitais', 'saude', 'reducao', 'virus', 'epidemiologico', 'brasil', 'feira', 'deteccoes', 'hospital', 'terca', 'nesta', 'divulgado', 'boletim', 'medicos', 'casos', 'numero', 'registrou', 'aids', 'segundo', 'doenca', 'tratamento']\n"
     ]
    }
   ],
   "source": [
    "words = ['brasil', 'registrou', 'reducao', 'numero', 'deteccoes', 'aids', 'segundo', 'boletim', 'epidemiologico', 'divulgado', 'nesta', 'terca', 'feira', 'saude', 'medico', 'hospital', 'medicos', 'doenca', 'casos', 'aids', 'virus', 'tratamento', 'hospitais']\n",
    "words = list(set(words))\n",
    "print(words)"
   ]
  },
  {
   "cell_type": "markdown",
   "metadata": {},
   "source": [
    "### Rank words based on Word2Vec centroid"
   ]
  },
  {
   "cell_type": "code",
   "execution_count": 3,
   "metadata": {},
   "outputs": [
    {
     "name": "stdout",
     "output_type": "stream",
     "text": [
      "ranked words:  saude hospitais medicos doenca tratamento epidemiologico registrou aids brasil casos hospital nesta segundo numero reducao divulgado virus feira terca boletim deteccoes\n"
     ]
    }
   ],
   "source": [
    "w2v = Word2Vec_Evaluation(model_path=\"w2vmodels/STM_CBOW_65dim\", stem=True)\n",
    "ranked = w2v.rank_topic(\" \".join(words))\n",
    "words,rank = zip(*ranked)\n",
    "print(\"ranked words: \",\" \".join(words))"
   ]
  },
  {
   "cell_type": "markdown",
   "metadata": {},
   "source": [
    "### Translate words"
   ]
  },
  {
   "cell_type": "code",
   "execution_count": 4,
   "metadata": {},
   "outputs": [
    {
     "name": "stdout",
     "output_type": "stream",
     "text": [
      "['health', 'hospitals', 'medical', 'treatment', 'epidemiological', 'treatment', 'registered', 'aids', 'cases', 'hospital', 'in', 'this', 'second', 'number', 'reduction', 'publicized', 'virus', 'bulletin', 'detections']\n"
     ]
    }
   ],
   "source": [
    "en_words = translate_line(\" \".join(words), \"pt-br\", \"en_US\")\n",
    "en_words = tokenizer.tokenize(en_words.lower())\n",
    "d = enchant.Dict(\"en_US\")\n",
    "only_english=[]\n",
    "for word in en_words:\n",
    "    if(d.check(word)):\n",
    "        only_english.append(word)\n",
    "en_words = only_english\n",
    "print(en_words)"
   ]
  },
  {
   "cell_type": "markdown",
   "metadata": {},
   "source": [
    "### Removing Stopwords"
   ]
  },
  {
   "cell_type": "code",
   "execution_count": 5,
   "metadata": {},
   "outputs": [
    {
     "name": "stdout",
     "output_type": "stream",
     "text": [
      "['health', 'hospitals', 'medical', 'treatment', 'epidemiological', 'treatment', 'registered', 'aids', 'cases', 'hospital', 'second', 'number', 'reduction', 'publicized', 'virus', 'bulletin', 'detections']\n"
     ]
    }
   ],
   "source": [
    "stop_words = set(stopwords.words('english')) \n",
    "final_words = [w for w in en_words if not w in stop_words]\n",
    "print(final_words)"
   ]
  },
  {
   "cell_type": "code",
   "execution_count": 40,
   "metadata": {},
   "outputs": [
    {
     "name": "stdout",
     "output_type": "stream",
     "text": [
      "TOP 5 words: health hospitals medical treatment epidemiological\n"
     ]
    }
   ],
   "source": [
    "print(\"TOP 5 words: \"+\" \".join(final_words[:5]))"
   ]
  },
  {
   "cell_type": "code",
   "execution_count": 41,
   "metadata": {},
   "outputs": [
    {
     "name": "stdout",
     "output_type": "stream",
     "text": [
      "looking for: health+hospitals+medical+treatment+epidemiological\n",
      "looking for: health+hospitals+medical+treatment\n",
      "looking for: hospitals+medical+treatment+epidemiological\n",
      "looking for: health+hospitals+medical\n",
      "looking for: hospitals+medical+treatment\n",
      "looking for: medical+treatment+epidemiological\n",
      "looking for: health+hospitals+medical\n",
      "looking for: health+hospitals\n",
      "looking for: hospitals+medical\n",
      "looking for: medical+treatment\n",
      "looking for: treatment+epidemiological\n"
     ]
    }
   ],
   "source": [
    "found_onto = defaultdict(list)\n",
    "word = \"+\".join(final_words[:5])\n",
    "print(\"looking for:\", word)\n",
    "r = requests.get(r\"http://swoogle.umbc.edu/2006/index.php?option=com_frontpage&service=search&queryType=search_swd_ontology&searchString={}&searchStart=1\".format(word))\n",
    "soup = bs4.BeautifulSoup(r.text)\n",
    "links = soup.findAll('a')\n",
    "for link in links:\n",
    "    if(\"class\" in dict(link.attrs).keys() and link.attrs['class'][0]=='external'):\n",
    "        found_onto[word].append(link.attrs['href'])\n",
    "\n",
    "word = \"+\".join(final_words[:4])\n",
    "print(\"looking for:\", word)\n",
    "r = requests.get(r\"http://swoogle.umbc.edu/2006/index.php?option=com_frontpage&service=search&queryType=search_swd_ontology&searchString={}&searchStart=1\".format(word))\n",
    "soup = bs4.BeautifulSoup(r.text)\n",
    "links = soup.findAll('a')\n",
    "for link in links:\n",
    "    if(\"class\" in dict(link.attrs).keys() and link.attrs['class'][0]=='external'):\n",
    "        found_onto[word].append(link.attrs['href'])\n",
    "\n",
    "word = \"+\".join(final_words[1:5])\n",
    "print(\"looking for:\", word)\n",
    "r = requests.get(r\"http://swoogle.umbc.edu/2006/index.php?option=com_frontpage&service=search&queryType=search_swd_ontology&searchString={}&searchStart=1\".format(word))\n",
    "soup = bs4.BeautifulSoup(r.text)\n",
    "links = soup.findAll('a')\n",
    "for link in links:\n",
    "    if(\"class\" in dict(link.attrs).keys() and link.attrs['class'][0]=='external'):\n",
    "        found_onto[word].append(link.attrs['href'])\n",
    "\n",
    "word = \"+\".join(final_words[:3])\n",
    "print(\"looking for:\", word)\n",
    "r = requests.get(r\"http://swoogle.umbc.edu/2006/index.php?option=com_frontpage&service=search&queryType=search_swd_ontology&searchString={}&searchStart=1\".format(word))\n",
    "soup = bs4.BeautifulSoup(r.text)\n",
    "links = soup.findAll('a')\n",
    "for link in links:\n",
    "    if(\"class\" in dict(link.attrs).keys() and link.attrs['class'][0]=='external'):\n",
    "        found_onto[word].append(link.attrs['href'])\n",
    "\n",
    "word = \"+\".join(final_words[1:4])\n",
    "print(\"looking for:\", word)\n",
    "r = requests.get(r\"http://swoogle.umbc.edu/2006/index.php?option=com_frontpage&service=search&queryType=search_swd_ontology&searchString={}&searchStart=1\".format(word))\n",
    "soup = bs4.BeautifulSoup(r.text)\n",
    "links = soup.findAll('a')\n",
    "for link in links:\n",
    "    if(\"class\" in dict(link.attrs).keys() and link.attrs['class'][0]=='external'):\n",
    "        found_onto[word].append(link.attrs['href'])\n",
    "\n",
    "word = \"+\".join(final_words[2:5])\n",
    "print(\"looking for:\", word)\n",
    "r = requests.get(r\"http://swoogle.umbc.edu/2006/index.php?option=com_frontpage&service=search&queryType=search_swd_ontology&searchString={}&searchStart=1\".format(word))\n",
    "soup = bs4.BeautifulSoup(r.text)\n",
    "links = soup.findAll('a')\n",
    "for link in links:\n",
    "    if(\"class\" in dict(link.attrs).keys() and link.attrs['class'][0]=='external'):\n",
    "        found_onto[word].append(link.attrs['href'])\n",
    "        \n",
    "word = \"+\".join(final_words[:3])\n",
    "print(\"looking for:\", word)\n",
    "r = requests.get(r\"http://swoogle.umbc.edu/2006/index.php?option=com_frontpage&service=search&queryType=search_swd_ontology&searchString={}&searchStart=1\".format(word))\n",
    "soup = bs4.BeautifulSoup(r.text)\n",
    "links = soup.findAll('a')\n",
    "for link in links:\n",
    "    if(\"class\" in dict(link.attrs).keys() and link.attrs['class'][0]=='external'):\n",
    "        found_onto[word].append(link.attrs['href'])\n",
    "\n",
    "word = \"+\".join(final_words[:2])\n",
    "print(\"looking for:\", word)\n",
    "r = requests.get(r\"http://swoogle.umbc.edu/2006/index.php?option=com_frontpage&service=search&queryType=search_swd_ontology&searchString={}&searchStart=1\".format(word))\n",
    "soup = bs4.BeautifulSoup(r.text)\n",
    "links = soup.findAll('a')\n",
    "for link in links:\n",
    "    if(\"class\" in dict(link.attrs).keys() and link.attrs['class'][0]=='external'):\n",
    "        found_onto[word].append(link.attrs['href'])\n",
    "\n",
    "word = \"+\".join(final_words[1:3])\n",
    "print(\"looking for:\", word)\n",
    "r = requests.get(r\"http://swoogle.umbc.edu/2006/index.php?option=com_frontpage&service=search&queryType=search_swd_ontology&searchString={}&searchStart=1\".format(word))\n",
    "soup = bs4.BeautifulSoup(r.text)\n",
    "links = soup.findAll('a')\n",
    "for link in links:\n",
    "    if(\"class\" in dict(link.attrs).keys() and link.attrs['class'][0]=='external'):\n",
    "        found_onto[word].append(link.attrs['href'])\n",
    "\n",
    "word = \"+\".join(final_words[2:4])\n",
    "print(\"looking for:\", word)\n",
    "r = requests.get(r\"http://swoogle.umbc.edu/2006/index.php?option=com_frontpage&service=search&queryType=search_swd_ontology&searchString={}&searchStart=1\".format(word))\n",
    "soup = bs4.BeautifulSoup(r.text)\n",
    "links = soup.findAll('a')\n",
    "for link in links:\n",
    "    if(\"class\" in dict(link.attrs).keys() and link.attrs['class'][0]=='external'):\n",
    "        found_onto[word].append(link.attrs['href'])\n",
    "\n",
    "word = \"+\".join(final_words[3:5])\n",
    "print(\"looking for:\", word)\n",
    "r = requests.get(r\"http://swoogle.umbc.edu/2006/index.php?option=com_frontpage&service=search&queryType=search_swd_ontology&searchString={}&searchStart=1\".format(word))\n",
    "soup = bs4.BeautifulSoup(r.text)\n",
    "links = soup.findAll('a')\n",
    "for link in links:\n",
    "    if(\"class\" in dict(link.attrs).keys() and link.attrs['class'][0]=='external'):\n",
    "        found_onto[word].append(link.attrs['href'])"
   ]
  },
  {
   "cell_type": "code",
   "execution_count": 42,
   "metadata": {},
   "outputs": [
    {
     "name": "stdout",
     "output_type": "stream",
     "text": [
      "http://swpatho.ag-nbi.de/context/naics.owl\n",
      "http://www.mindswap.org/2004/multipleOnt/FactoredOntologies/NCI/Ontology19.owl\n"
     ]
    }
   ],
   "source": [
    "ontos = defaultdict()\n",
    "for on in found_onto.keys():\n",
    "    if(len(found_onto[on])>0):\n",
    "        ontos[found_onto[on][0]]=0\n",
    "    if(len(found_onto[on])>1):\n",
    "        ontos[found_onto[on][0]]=0\n",
    "\n",
    "for on in found_onto.keys():\n",
    "    if(len(found_onto[on])>0):\n",
    "        ontos[found_onto[on][0]]+=1\n",
    "    if(len(found_onto[on])>1):\n",
    "        ontos[found_onto[on][0]]+=1\n",
    "ontos = list(ontos.items())\n",
    "ontos.sort(key = lambda x: x[1], reverse=True)\n",
    "print(ontos[0][0])\n",
    "print(ontos[1][0])"
   ]
  }
 ],
 "metadata": {
  "kernelspec": {
   "display_name": "Python 3",
   "language": "python",
   "name": "python3"
  },
  "language_info": {
   "codemirror_mode": {
    "name": "ipython",
    "version": 3
   },
   "file_extension": ".py",
   "mimetype": "text/x-python",
   "name": "python",
   "nbconvert_exporter": "python",
   "pygments_lexer": "ipython3",
   "version": "3.6.6"
  }
 },
 "nbformat": 4,
 "nbformat_minor": 2
}
