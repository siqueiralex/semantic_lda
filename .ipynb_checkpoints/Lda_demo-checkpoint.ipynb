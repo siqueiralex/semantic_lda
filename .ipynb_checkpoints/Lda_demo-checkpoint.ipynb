{
 "cells": [
  {
   "cell_type": "code",
   "execution_count": 24,
   "metadata": {},
   "outputs": [],
   "source": [
    "from PreProcessor import Preprocessor\n",
    "from LdaMalletHandler import LdaMalletHandler\n",
    "import Loader\n",
    "from collections import Counter\n",
    "import nltk"
   ]
  },
  {
   "cell_type": "code",
   "execution_count": 25,
   "metadata": {},
   "outputs": [],
   "source": [
    "mallet_path = '/Users/alex/mallet-2.0.8/bin/mallet'\n",
    "corpus_path = 'data/Folhacompleto/'\n",
    "saved_model_name = 'FolhaCompleto100t_1000i'"
   ]
  },
  {
   "cell_type": "markdown",
   "metadata": {},
   "source": [
    "### Load corpus"
   ]
  },
  {
   "cell_type": "code",
   "execution_count": 26,
   "metadata": {},
   "outputs": [],
   "source": [
    "corpus = Loader.load_from_folder(corpus_path)"
   ]
  },
  {
   "cell_type": "markdown",
   "metadata": {},
   "source": [
    "### Set up preprocessor"
   ]
  },
  {
   "cell_type": "code",
   "execution_count": 27,
   "metadata": {},
   "outputs": [],
   "source": [
    "p = Preprocessor(lang='portuguese')"
   ]
  },
  {
   "cell_type": "markdown",
   "metadata": {},
   "source": [
    "### Load model"
   ]
  },
  {
   "cell_type": "code",
   "execution_count": 28,
   "metadata": {},
   "outputs": [],
   "source": [
    "Lda = LdaMalletHandler(mallet_path=mallet_path)\n",
    "Lda.load_model(model_name=saved_model_name)"
   ]
  },
  {
   "cell_type": "code",
   "execution_count": 29,
   "metadata": {},
   "outputs": [
    {
     "name": "stdout",
     "output_type": "stream",
     "text": [
      "First 10 Topics:\n",
      "paulo sp jose santos rio folha belo minas horizonte preto\n",
      "paises brasil internacional america mundial latina mundo mercosul comercio estados\n",
      "tudo bem gente fazer mundo coisa sempre melhor bom ver\n",
      "moda roupas modelos cores roupa marca nova colecao estilo estilista\n",
      "governo previdencia salario social orcamento minimo recursos funcionarios salarios gastos\n",
      "todos povo vida grande bem melhor sempre pois nesta momento\n",
      "anos tres dois quatro cinco meses seis dez duas ultimos\n",
      "producao toneladas agricultura produtores milhoes leite agricola safra produto rural\n",
      "banco bancos central bc divida governo bilhoes credito economico dinheiro\n",
      "contra publico qualquer publica nada opiniao fato apenas pais falta\n"
     ]
    }
   ],
   "source": [
    "all_topics = Lda.get_string_topics()\n",
    "print(\"First 10 Topics:\\n\"+\"\\n\".join(all_topics[:10]))"
   ]
  },
  {
   "cell_type": "markdown",
   "metadata": {},
   "source": [
    "### Testing new article"
   ]
  },
  {
   "cell_type": "code",
   "execution_count": 18,
   "metadata": {},
   "outputs": [],
   "source": [
    "new_art = '''\n",
    "O Brasil registrou uma redução de 16% no número de detecções de Aids em2018, \n",
    "segundo o Boletim Epidemiologico divulgado nesta terça-feira.\n",
    "'''"
   ]
  },
  {
   "cell_type": "code",
   "execution_count": 19,
   "metadata": {},
   "outputs": [],
   "source": [
    "test_topics = Lda.ext_doc_topics(p.transform([new_art])[0])"
   ]
  },
  {
   "cell_type": "code",
   "execution_count": 21,
   "metadata": {},
   "outputs": [
    {
     "name": "stdout",
     "output_type": "stream",
     "text": [
      "1st Topic: saude medico hospital medicos doenca casos aids virus tratamento hospitais\n",
      "2nd Topic: feira semana sexta segunda dia hoje ultima quarta amanha quinta\n"
     ]
    }
   ],
   "source": [
    "print(\"1st Topic:\",Lda.get_string_topics()[test_topics[0][0]])\n",
    "print(\"2nd Topic:\",Lda.get_string_topics()[test_topics[1][0]])"
   ]
  },
  {
   "cell_type": "markdown",
   "metadata": {},
   "source": [
    "### Retrieving most similar documents"
   ]
  },
  {
   "cell_type": "code",
   "execution_count": 22,
   "metadata": {},
   "outputs": [],
   "source": [
    "most_similar = Lda.ext_doc_n_most_similar(p.transform([new_art])[0])"
   ]
  },
  {
   "cell_type": "code",
   "execution_count": 22,
   "metadata": {},
   "outputs": [
    {
     "name": "stdout",
     "output_type": "stream",
     "text": [
      "SIMILAR 1: 1994-08-05  LUÍS FRANCISCO CARVALHO Fº    Da equipe de articulistas Eleição ainda é uma forma de lavagem de dinheiro. A reportagem da Folha mostra que a lei eleitoral é falha. A idéia dos bônus emitidos pelo Ministério da Fazenda não passa de um engodo. Os bônus servem para deixar rastro, mas não asseguram a transparência das doações. Depois do escândalo PC Farias e do impeachment de Collor, esperava-se uma regulamentação eficaz. Mas a lei foi aprovada no apagar das luzes do prazo estabelecido pela Constituição (um ano antes das eleições) e não conferiu à Justiça Eleitoral tempo e meios para o controle efetivo das finanças dos candidatos. Os tesoureiros não se sentem ameaçados. A prestação de contas não preocupa. A relação dos doadores fica em poder dos partidos, escondida. A única obrigação legal é manter em \"arquivo\" o nome dos contribuintes. Na prática, nunca serão exibidos. Vale tudo. O PL praticou uma fraude. Forneceu mais bônus do que a quantia efetivamente recebida. É um tipo de irregularidade que se oferece para empresários. Assim como o jornalista conseguiu a notícia, qualquer um pode encontrar o caminho da sonegação. A lei estabelece que a desobediência às normas que regem a administração financeira da campanha pode gerar a cassação do registro do candidato. O caso revelado hoje é exemplar, põe em cheque a credibilidade do processo eleitoral e deve provocar um frenesi no meio político. Será que o PL é o único partido que se dispõe a esse tipo de negócio? Com a palavra a Justiça Eleitoral. \n",
      "\n",
      "SIMILAR 2: 1994-08-05  Da Reportagem Local A reportagem da Folha comprou do PL (Partido Liberal) um lote de R$ 140 mil em bônus eleitorais em troca de um cheque de apenas R$ 70 mil.  O negócio comprova a existência de de um mercado paralelo formado por partidos para a venda ilegal, com deságio (desconto) de bônus eleitorais. Como se fossem empresários do interior de São Paulo, os jornalistas realizaram a negociação. O esquema dos bônus criado na legislação da eleição deste ano permite vários tipos de irregularidades contra a Receita Federal, como a legalização de recursos de \"caixa 2\" contabilidade paralela de uma empresa com o objetivo de sonegar impostos. Esse mercado paralelo pode resultar em um grande prejuízo para a Receita Federal, pois os partidos terão acesso a um montante de R$ 3,1 bilhões em bônus este ano. Os bônus funcionam como recibos. São entregues pelos partidos aos doadores de recursos às campanhas. O mecanismo foi criado com o objetivo de dar transparência ao financiamento de candidatos, um dos principais problemas de eleições anteriores no Brasil. O PL (Partido Liberal), cujo candidato à Presidência é Flávio Rocha, é uma das legendas mais fartas em estoque de bônus vai ter direito a receber R$ 177 milhões, conforme solicitou à Casa da Moeda, órgão público federal responsável pela emissão dos papéis. Este partido está vendendo bônus com deságio (desconto) para empresários que pretendem utilizá-los com o objetivo de sonegar impostos. A venda com desconto interessa aos tesoureiros das campanhas por ser uma das formas de atrair as doações, que não estão sendo tão generosas como nas eleições passadas. Para os pequenos partidos, sem chances de vitória nas eleições, o negócio torna-se mais interessante ainda. Poucos empresários se interessariam em dar recursos aos seus candidatos nanicos. Os partidos não tomam prejuízo nenhum com este tipo de operação. Para justificar a diferença entre o total de bônus e o dinheiro recebido, o partido trata de conseguir notas fiscais \"frias\". Exemplo: para um partido que vendeu um lote de R$ 140 mil em bônus e recebeu apenas R$ 70 em dinheiro, basta conseguir mais R$ 70 mil em notas fiscais \"frias\" e justificar a saída, no momento de prestação de contas, do total de bônus ao TSE (Tribunal Superior Eleitoral). As notas \"frias\" são notas fiscais que mostram uma despesa que de fato não foi realizada. O partido apresenta notas, por exemplo, de aluguéis de carros que nunca foram alugados, compra de cartazes que não foram comprados etc. A reportagem tentou comprar bônus após apurar com empresários que vários partidos, entre eles o PL, o PSD e o PRN, estariam promovendo as vendas com deságio (desconto). As informações mais precisas apontavam para transações feitas pelo PL, que havia oferecido o negócio a pessoas em São Paulo. A transação, iniciada na sexta-feira da semana passada, foi concluída na noite de anteontem, nas sedes da Guararapes e Riachuelo, em São Paulo, empresas pertencentes à família de Flávio Rocha. Foram dez telefonemas até a aquisição do lote de R$ 140 mil 28 bônus no valor de R$ 5 mil cada. As negociações foram feitas com Téofilo Furtado Neto, executivo da empresa Guararapes e presidente da Comissão de Finanças do PL.  Outro lado                                                                                                               O chefe do comitê central de campanha do candidato Flávio Rocha (PL), Teófilo Furtado, afirmou que \"não procede\" , a acusação. Informado pela Folha da existência de provas de irregularidades, Furtado disse que não 'sabia explicar' o fato.                                           Respondendo sempre com um \"não procede\", Furtado chegou a responsabilizar Dilma Gonçalves pela venda. \"Isso é com dona Dilma. Ela é lotada em São Paulo. Não sou eu que trato de venda. Se está acontecendo isso, é responsabilidade dela\", afirmou Furtado.                                                                                                                Colaboraram VICENTE DUARTE NETO, da Redação, e Sucursal de Brasília \n",
      "\n",
      "SIMILAR 3: 1995-10-08  Da Sucursal de Brasília A Folha conversou com um caixa de campanha que atuou nas últimas eleições. O seu relato, feito sob a condição do anonimato, mostra que o valor gasto pelos candidatos é, no mínimo, o triplo do que foi declarado oficialmente. Ele cita o seu caso particular. A campanha que coordenou para governador foi modesta, segundo ele próprio. Consumiu perto de R$ 3 milhões. Em bônus, porém, declarou ter gasto R$ 1 milhão. Seu candidato foi derrotado. O vencedor, pelas informações que obteve, gastou R$ 10 milhões. Declarou ao TSE (Tribunal Superior Eleitoral) R$ 3 milhões. Ele diz que a fantasia dos dados oficiais é resultado do ``caixa dois\" das empresas _os recursos obtidos sem cobertura legal. Como não pode ter sua origem comprovada, o dinheiro é doado sem bônus. Segundo o caixa de campanha, o grosso das contribuições das grandes empreiteiras chegou aos cofres dos candidatos sem a contrapartida do bônus. Ou seja, o que está registrado oficialmente no TSE é apenas a ponta do iceberg. Há uma exceção. A presidência da Construtora Norberto Odebrecht, preocupada com as denúncias de seu envolvimento no escândalo Collorgate, decidiu que só faria doação em troca de bônus. Outra fonte da qual jorrou dinheiro, mas que pediu para não ser identificada, foram as multinacionais. Doaram, mas pediram explicitamente para não receber bônus. Algumas, sem qualquer participação acionária de brasileiros, optaram pela contribuição anônima por impedimento legal. O caixa de campanha que conversou com a Folha diz ter recebido doações de pelo menos duas multinacionais, uma americana e outra argentina. Algumas montadoras, segundo ele, também doaram recursos na eleição. Mas não quiseram sair do anonimato. Os recursos doados sem bônus, como têm origem no ``caixa dois\" e vêm sempre em dólar. Nada em real. Em moeda nacional são feitas apenas as contribuições oficiais, que serão registradas na contabilidade da campanha. As grandes contribuições vêm, em sua maior parte, de empresas paulistas. Segundo o caixa de campanha ouvido pela Folha, o movimento noturno de jatinhos durante as eleições, nos aeroportos paulistas, é frenético. É comum assistir a cenas de pessoas descendo dos jatos de mãos vazias. Depois, retornam aos aeroportos carregando as famosas pastas 007 recheadas de dólar. Cada grande grupo tem um esquema próprio para dirigir suas doações de campanha. As grandes empreiteiras fazem contribuições individuais, normalmente para vários candidatos. Mas os valores maiores vão para os favoritos. Já as pequenas e médias fazem reuniões em suas associações e fecham uma lista de candidatos. O mesmo ocorre nas instituições financeiras. Segundo o caixa de campanha, os bancos se reúnem e fecham a lista de candidatos. Nessas reuniões, decide-se quanto cada banco doará. Outro setor que fecha cotas de contribuição por empresa é o da indústria da construção civil. Já os fornecedores do governo aproveitam as eleições para cobrar faturas atrasadas. O caixa de campanha diz que esses fornecedores sempre procuram os candidatos oficiais, aqueles apoiados pelos governadores. A conversa evolui sempre do mesmo jeito: as empresas insinuam o interesse, mas condicionam eventuais doações ao pagamento de faturas atrasadas nos diversos Estados. (Valdo Cruz) \n",
      "\n",
      "SIMILAR 4: 1994-08-10  TRE de São Paulo encaminhou ontem ao TSE o processo que investiga a venda de bônus eleitorais com deságio DENISE MADUEÑO Da Sucursal de Brasília O presidente do PL, deputado Álvaro Valle (RJ), anuncia hoje às 10h a renúncia do candidato do partido à Presidência da República, Flávio Rocha. O candidato ocupa hoje à noite, pela última vez, o horário eleitoral gratuito. A carta-renúncia deverá ser encaminhada somente amanhã ao TSE (Tribunal Superior Eleitoral) pelo partido para garantir a presença do candidato na TV ainda no programa desta noite. Rocha entregou ontem ao TSE a prestação de contas de sua campanha. Foram nove pastas com papéis de sua contabilidade. O candidato registrou um saldo de caixa de R$ 76,4 mil em contribuições. A data de referência foi o dia 5 de agosto. A documentação já foi encaminhada ao procurador-geral da República, Aristides Junqueira. Na contabilidade de Rocha constam \"Formulários de Participação Ativa\" como contribuições. De acordo com o candidato, o formulário foi usado para pequenas doações através de mala direta enviada aos 20 mil colaboradores regulares da campanha pelo Imposto Único. As contribuições dos simpatizantes da causa chegaram a R$ 11 mil, segundo Rocha. Rocha declara na prestação de contas que pagou despesas diretas na campanha no valor de R$ 62,5 mil de seu próprio bolso. As despesas do comitê somaram R$ 67,4 mil, segundo a contabilidade apresentada. Rocha afirmou que as viagens com o jatinho são parte de contrato com as lojas Riachuelo, empresa de sua família. No mesmo caso, afirmou Rocha, estão as salas da Riachuelo onde foram instalados comitês de campanha. O valor do aluguel será pago em bônus, disse o candidato. De acordo com Rocha, a produção do programa do horário eleitoral vai custar à campanha US$ 200 mil. O orçamento da campanha apresentado pelo candidato ao TSE prevê gastos de R$ 50 milhões. Segundo Rocha, seu comitê financeiro recebeu R$ 11,4 milhões em bônus no dia 4 de julho. O TRE (Tribunal Regional Eleitoral) de São Paulo encaminhou ontem ao TSE o processo que investiga a venda de bônus com deságio pela campanha de Rocha. O tesoureiro da campanha, Teófilo Furtado, que negociou a venda de bônus noticiada pela Folha, foi intimado pelo TRE, mas não depôs. Ele será ouvido no TSE. Rocha disse que a venda de bônus com deságio não beneficia os compradores porque não há dedução do Imposto de Renda. \"Só há uma finalidade: vender jornais. Não serve para lavar dinheiro\", afirmou Rocha. \n",
      "\n",
      "SIMILAR 5: 1995-09-16  Da Sucursal de Brasília  O procurador-geral da República, Geraldo Brindeiro, enviou ontem parecer ao TSE (Tribunal Superior Eleitoral), sugerindo que seja anulado o resultado da segunda eleição para deputado federal e estadual do Rio de Janeiro, realizada em 15 de novembro de 1994. Brindeiro pediu ao TSE que sejam considerados válidos os resultados da disputa de 3 de outubro. O parecer ainda vai ser apreciado pelo ministro Pádua Ribeiro, antes do julgamento do mandado de segurança movido pelo PPR. A eleição parlamentar de outubro no Rio foi anulada pelo TRE (Tribunal Regional Eleitoral) por causa das suspeitas de fraude durante a votação. O PPR entrou com recurso junto ao TSE, argumentando que alguns de seus candidatos foram prejudicados com a proclamação dos eleitos no pleito de 15 de novembro. Caso o parecer de Brindeiro seja aceito pelo TSE, será alterada a composição das bancadas federal e estadual fluminenses, prevalecendo o resultado de 3 de outubro. O procurador sustenta no parecer que as eleições foram anuladas \"mediante mera presunção de falsidade e fraude na votação\". Segundo Brindeiro, \"nem os juízes do TRE, nem o procurador regional eleitoral, estavam certos quanto a existência e a dimensão da suposta fraude\". \n",
      "\n"
     ]
    }
   ],
   "source": [
    "i=1\n",
    "for similar in most_similar:\n",
    "    print(\"SIMILAR {}:\".format(i), corpus['dates'][similar].date(),corpus['articles'][similar])\n",
    "    i+=1\n",
    "    print()"
   ]
  },
  {
   "cell_type": "markdown",
   "metadata": {},
   "source": [
    "### Joining topic words with article words "
   ]
  },
  {
   "cell_type": "code",
   "execution_count": 21,
   "metadata": {},
   "outputs": [
    {
     "name": "stdout",
     "output_type": "stream",
     "text": [
      "['brasil', 'registrou', 'reducao', 'numero', 'deteccoes', 'aids', 'segundo', 'boletim', 'epidemiologico', 'divulgado', 'nesta', 'terca', 'feira', 'saude', 'medico', 'hospital', 'medicos', 'doenca', 'casos', 'aids', 'virus', 'tratamento', 'hospitais']\n"
     ]
    }
   ],
   "source": [
    "print(p.transform([new_art])[0] + Lda.get_string_topics()[test_topics[0][0]].split())"
   ]
  }
 ],
 "metadata": {
  "kernelspec": {
   "display_name": "Python 3",
   "language": "python",
   "name": "python3"
  },
  "language_info": {
   "codemirror_mode": {
    "name": "ipython",
    "version": 3
   },
   "file_extension": ".py",
   "mimetype": "text/x-python",
   "name": "python",
   "nbconvert_exporter": "python",
   "pygments_lexer": "ipython3",
   "version": "3.6.6"
  }
 },
 "nbformat": 4,
 "nbformat_minor": 2
}
