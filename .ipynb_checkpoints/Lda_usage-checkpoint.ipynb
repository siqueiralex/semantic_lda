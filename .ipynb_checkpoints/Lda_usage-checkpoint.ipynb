{
 "cells": [
  {
   "cell_type": "code",
   "execution_count": 1,
   "metadata": {},
   "outputs": [],
   "source": [
    "from PreProcessor import Preprocessor\n",
    "import Loader\n",
    "from LdaMalletHandler import LdaMalletHandler"
   ]
  },
  {
   "cell_type": "code",
   "execution_count": 5,
   "metadata": {},
   "outputs": [],
   "source": [
    "mallet_path = '/Users/alex/mallet-2.0.8/bin/mallet'\n",
    "model_name = 'demo'\n",
    "corpus_path = \"data/Folhacompleto/\""
   ]
  },
  {
   "cell_type": "markdown",
   "metadata": {},
   "source": [
    "### Loading articles from files"
   ]
  },
  {
   "cell_type": "code",
   "execution_count": 6,
   "metadata": {},
   "outputs": [],
   "source": [
    "corpus = Loader.load_from_folder(corpus_path)"
   ]
  },
  {
   "cell_type": "code",
   "execution_count": 7,
   "metadata": {},
   "outputs": [
    {
     "data": {
      "text/plain": [
       "103913"
      ]
     },
     "execution_count": 7,
     "metadata": {},
     "output_type": "execute_result"
    }
   ],
   "source": [
    "len(corpus['articles'])"
   ]
  },
  {
   "cell_type": "markdown",
   "metadata": {},
   "source": [
    "### Pre-process and tokenize"
   ]
  },
  {
   "cell_type": "code",
   "execution_count": 5,
   "metadata": {},
   "outputs": [],
   "source": [
    "p = Preprocessor(lang='portuguese')\n",
    "pre_processed = p.transform(corpus['articles'])"
   ]
  },
  {
   "cell_type": "markdown",
   "metadata": {},
   "source": [
    "### Apply model"
   ]
  },
  {
   "cell_type": "code",
   "execution_count": 6,
   "metadata": {},
   "outputs": [],
   "source": [
    "Lda = LdaMalletHandler(mallet_path=mallet_path)\n",
    "Lda.run_model(model_name= model_name, corpus=pre_processed, num_topics=100)"
   ]
  },
  {
   "cell_type": "code",
   "execution_count": 10,
   "metadata": {},
   "outputs": [
    {
     "name": "stdout",
     "output_type": "stream",
     "text": [
      "Topic 1: criancas escola escolas educacao alunos curso dia ano vagas os\n",
      "Topic 2: justica tribunal federal advogado prisao acao processo pc contra juiz\n",
      "Topic 3: pontos prova provas fase segunda os casa divisao ala ano\n",
      "Topic 4: de jornal nao ser tudo agora menos nada nacional foi\n",
      "Topic 5: politica sociedade poder politico povo voto democracia estado politicos politicas\n",
      "Topic 6: lei ser direito poder constituicao legislacao projeto medida controle artigo\n",
      "Topic 7: mundial torneio final ano volei selecao aberto jogo australia ranking\n",
      "Topic 8: prefeitura prefeito obras municipal meio maluf obra imoveis projeto secretario\n",
      "Topic 9: rarara diz nome pra andar da dia endereco ai telefone\n",
      "Topic 10: futebol time copa jogadores selecao tecnico campeonato equipe jogador brasileiro\n",
      "Topic 11: livro autor livros sobre literatura historia escritor editora obra grande\n",
      "Topic 12: policia policiais pm dois homens ontem os delegado zona ele\n",
      "Topic 13: ano milhoes passado dezembro mil segundo em novembro maior numero\n",
      "Topic 14: precos janeiro dezembro mes inflacao os aumento alta periodo acima\n",
      "Topic 15: producao milhoes empresa mercado toneladas industria cerca agricultura pais ano\n",
      "Topic 16: se nao todos menos ainda ser pois exemplo porque qualquer\n",
      "Topic 17: belo horizonte exercito governo os nacional mexico ontem disse chiapas\n",
      "Topic 18: saude aids casos empresas secretaria estado medico paraiba hospital segundo\n",
      "Topic 19: casa carne tel restaurante onde especial bar rua cerveja mesa\n",
      "Topic 20: em energia hoje sendo petroleo todos ainda abaixo petrobras distribuicao\n",
      "Topic 21: eua europa norte alemanha americanos italia anos mundo estados china\n",
      "Topic 22: feira dia semana segunda na sexta dias quarta ultima proxima\n",
      "Topic 23: mil cr cerca da dias custa os pessoas dois milhoes\n",
      "Topic 24: show banda rock festival noite bandeira publico brasil shows grupo\n",
      "Topic 25: tres rodrigues nelson fotos todos filhos anos duas dois maria\n",
      "Topic 26: mulheres medico hospital criancas tratamento celulas mulher anos ser doenca\n",
      "Topic 27: rio presidente federacao fundacao sucursal da futebol entidade eduardo ontem\n",
      "Topic 28: mas tudo tao nada parece ver vida todo tempo mundo\n",
      "Topic 29: ano primeira antes da prova passado japao em final na\n",
      "Topic 30: estatais trabalho empresas salarios salario funcionarios previdencia social ministro governo\n",
      "Topic 31: santos clube hoje jogador da diretoria contrato ainda sao junior\n",
      "Topic 32: disse ontem afirmou ele segundo ter da porque durante apos\n",
      "Topic 33: filme cinema filmes historia eua video da direcao diretor cineasta\n",
      "Topic 34: rua avenida centro local zona reportagem da ruas regiao segundo\n",
      "Topic 35: gente nao fazer ficar tem nada diz jeito vez todo\n",
      "Topic 36: ser pode podem os uso pele especial evitar deve maioria\n",
      "Topic 37: havia horas chegou antes primeiro dois duas primeira ficou foi\n",
      "Topic 38: presos os amazonas manaus segundo disse presidio belem fuga folha\n",
      "Topic 39: nova york melhor americana premio norte os duas em americano\n",
      "Topic 40: casa dia anos mulher pai familia onde mae filho filhos\n",
      "Topic 41: publico geral ministerio justica caso procurador conselho inquerito mp estado\n",
      "Topic 42: servico ser cada informacoes tipo podem servicos empresas cabo numero\n",
      "Topic 43: imposto receita sobre bancos federal pagamento impostos ipmf renda icms\n",
      "Topic 44: teatro peca ator espetaculo anos diretor montagem atriz onde atores\n",
      "Topic 45: anos dois tres quatro meses cinco dias seis ultimos dez\n",
      "Topic 46: dia cr mercado dolar mes ontem juros contra anterior pontos\n",
      "Topic 47: sindicato cruz cut oswaldo crime presidente silva junior pt sindicalista\n",
      "Topic 48: mercado empresa vendas produtos lojas diz produto loja diretor marca\n",
      "Topic 49: ministro urv governo fernando henrique fhc fazenda plano precos cardoso\n",
      "Topic 50: cpi orcamento corrupcao pais congresso collor politica publica apenas politicos\n",
      "Topic 51: ser forma sobre pode qualquer relacao caso cada assim problema\n",
      "Topic 52: tv globo programa cultura televisao emissora rede novela mtv programas\n",
      "Topic 53: jose carlos joao alves santos luis da carvalho silva grupo\n",
      "Topic 54: disco musica anos banda discos novo lancamento rock cantor jazz\n",
      "Topic 55: sul santa porto grande rio cidade alegre curitiba parana estado\n",
      "Topic 56: mas ainda bem parte outro por fato proprio assim ser\n",
      "Topic 57: sobre livro parte obra temas leitura paginas trabalho autor diferentes\n",
      "Topic 58: bem tudo mas nao tempo sempre pouco agora assim melhor\n",
      "Topic 59: agua parque animais mar para regiao onde praia metros sol\n",
      "Topic 60: presidente governo ministro itamar franco partido ontem primeiro eleicoes ministros\n",
      "Topic 61: clinton presidente eua ontem washington israel acordo paz bill de\n",
      "Topic 62: brasil paises comercio argentina mercado eua internacional mercosul norte pais\n",
      "Topic 63: folha sp jornal campanha contra fome dia edicao betinho artigo\n",
      "Topic 64: sao paulo sp reportagem paulista local estado interior cidade preto\n",
      "Topic 65: russia militar forcas guerra norte militares presidente ieltsin paises novo\n",
      "Topic 66: show samba gil carnaval caetano chico musica mangueira vai festa\n",
      "Topic 67: cd tel programa computador programas pode windows versao dos dados\n",
      "Topic 68: ser pode deve se devem para ter apenas podem caso\n",
      "Topic 69: banco dinheiro bancos acoes bilhoes divida poupanca fundos recursos milhoes\n",
      "Topic 70: paris moda de alta fernanda modelos franca roupas frances la\n",
      "Topic 71: revisao camara congresso deputado deputados pmdb jobim presidente votacao constitucional\n",
      "Topic 72: brasil pais brasileiros brasileiro brasileira maior mundo anos hoje aqui\n",
      "Topic 73: tecnico paulo sao time jogo min gol equipe contra tempo\n",
      "Topic 74: sobre alem mais lado vezes outro leia para ainda disso\n",
      "Topic 75: pessoas ontem segundo acidente km onibus morreram ficaram fogo sul\n",
      "Topic 76: mulher los mulheres ter jackson homens sexual anos marido angeles\n",
      "Topic 77: rio viagem turismo empresa fortaleza carnaval segundo turistas companhia volta\n",
      "Topic 78: rio praia norte jorge cidade zona favela sucursal praias litoral\n",
      "Topic 79: cpi deputado relatorio orcamento comissao senador parlamentares pfl magalhaes pmdb\n",
      "Topic 80: arte de maria artistas exposicao artista anos trabalho museu obras\n",
      "Topic 81: diz local reportagem da afirma segundo para ele diretor explica\n",
      "Topic 82: outros sistema parte cada apenas algumas alguns sendo todos os\n",
      "Topic 83: pesquisa segundo apenas menos relacao maioria datafolha maior mostra levantamento\n",
      "Topic 84: folha nao eu mas acho porque voce como fazer ser\n",
      "Topic 85: estado setor nacional projeto processo estrutura recursos governo desenvolvimento reforma\n",
      "Topic 86: conta roriz nome brasilia dias governador joaquim sobre fundacao acao\n",
      "Topic 87: vai vao fazer se para agora quer novo entrar nova\n",
      "Topic 88: licitacao empresa milhoes telebras empresas mil concorrencia sistema preco contrato\n",
      "Topic 89: governo congresso estados orcamento municipios plano aumento recursos impostos fundo\n",
      "Topic 90: universidade professor usp hoje instituto para pessoas faculdade anos departamento\n",
      "Topic 91: populacao anos economia economico trabalho paises crescimento emprego mundo desemprego\n",
      "Topic 92: homem vida ser mundo deus razao natureza futuro moral teoria\n",
      "Topic 93: anos dois historia londres em serie revista os primeira morte\n",
      "Topic 94: carro carros motor piloto senna equipe reportagem modelo pilotos da\n",
      "Topic 95: governador pmdb governo luiz quercia antonio presidente henrique psdb fleury\n",
      "Topic 96: grupo da dois brasil local caixa reportagem final hoje franca\n",
      "Topic 97: lula pt partido candidato candidatura campanha candidatos presidencia presidente maluf\n",
      "Topic 98: contas dinheiro empresa federal documento documentos valor conta segundo banco\n",
      "Topic 99: ser ainda grande pois novo la todos ano tempos mas\n",
      "Topic 100: inflacao economia plano politica ano primeiro ainda economica governo condicoes\n"
     ]
    }
   ],
   "source": [
    "topics = Lda.get_string_topics()\n",
    "for i in range(len(topics)):\n",
    "    print(\"Topic {}: {}\".format(i+1,topics[i]))"
   ]
  },
  {
   "cell_type": "markdown",
   "metadata": {},
   "source": [
    "### Saving model and Dictionary"
   ]
  },
  {
   "cell_type": "code",
   "execution_count": 7,
   "metadata": {},
   "outputs": [],
   "source": [
    "Lda.save_model()"
   ]
  },
  {
   "cell_type": "code",
   "execution_count": null,
   "metadata": {},
   "outputs": [],
   "source": []
  }
 ],
 "metadata": {
  "kernelspec": {
   "display_name": "Python 3",
   "language": "python",
   "name": "python3"
  },
  "language_info": {
   "codemirror_mode": {
    "name": "ipython",
    "version": 3
   },
   "file_extension": ".py",
   "mimetype": "text/x-python",
   "name": "python",
   "nbconvert_exporter": "python",
   "pygments_lexer": "ipython3",
   "version": "3.6.6"
  }
 },
 "nbformat": 4,
 "nbformat_minor": 2
}
